{
  "cells": [
    {
      "cell_type": "markdown",
      "metadata": {
        "id": "view-in-github",
        "colab_type": "text"
      },
      "source": [
        "<a href=\"https://colab.research.google.com/github/tamannajain07/DataAnalytics/blob/main/Python/Programming_Assignment_6.ipynb\" target=\"_parent\"><img src=\"https://colab.research.google.com/assets/colab-badge.svg\" alt=\"Open In Colab\"/></a>"
      ]
    },
    {
      "cell_type": "markdown",
      "id": "84a41a9f",
      "metadata": {
        "id": "84a41a9f"
      },
      "source": [
        "# Programming Basic Assignment 6"
      ]
    },
    {
      "cell_type": "markdown",
      "id": "a4b40558",
      "metadata": {
        "id": "a4b40558"
      },
      "source": [
        "### 1. Write a Python Program to Display Fibonacci Sequence Using Recursion?"
      ]
    },
    {
      "cell_type": "code",
      "source": [
        "# Python program to display the Fibonacci sequence\n",
        "\n",
        "def fib(n):\n",
        "   if n <= 1:\n",
        "       return n\n",
        "   else:\n",
        "       return(fib(n-1) + fib(n-2))\n",
        "\n",
        "n = int(input(\"Enter the number: \"))\n",
        "\n",
        "if n <= 0:\n",
        "   print(\"Plese enter a positive integer\")\n",
        "else:\n",
        "   print(\"Fibonacci sequence:\")\n",
        "   for i in range(n):\n",
        "       print(fib(i))\n"
      ],
      "metadata": {
        "colab": {
          "base_uri": "https://localhost:8080/"
        },
        "id": "w2AGJaj9WbUB",
        "outputId": "0e973215-4d2b-4722-9078-e2ba9380bcec"
      },
      "id": "w2AGJaj9WbUB",
      "execution_count": 1,
      "outputs": [
        {
          "output_type": "stream",
          "name": "stdout",
          "text": [
            "Enter the number: 10\n",
            "Fibonacci sequence:\n",
            "0\n",
            "1\n",
            "1\n",
            "2\n",
            "3\n",
            "5\n",
            "8\n",
            "13\n",
            "21\n",
            "34\n"
          ]
        }
      ]
    },
    {
      "cell_type": "markdown",
      "id": "d7a57f60",
      "metadata": {
        "id": "d7a57f60"
      },
      "source": [
        "### 2. Write a Python Program to Find Factorial of Number Using Recursion?"
      ]
    },
    {
      "cell_type": "code",
      "source": [
        "def fact(n):\n",
        "   if n == 1:\n",
        "       return n\n",
        "   else:\n",
        "       return n*fact(n-1)\n",
        "\n",
        "n = int(input(\"Enter the number: \"))\n",
        "\n",
        "# check if the number is negative\n",
        "if n < 0:\n",
        "   print(\"Enter number greater than Zero\")\n",
        "elif n == 0:\n",
        "   print(\"The factorial of 0 is 1\")\n",
        "else:\n",
        "   print(\"The factorial of\", n, \"is\",fact(n))\n"
      ],
      "metadata": {
        "colab": {
          "base_uri": "https://localhost:8080/"
        },
        "id": "xJRMttvdWb_v",
        "outputId": "c3ba19c2-f7f1-4100-e292-742b1cec71d4"
      },
      "id": "xJRMttvdWb_v",
      "execution_count": 2,
      "outputs": [
        {
          "output_type": "stream",
          "name": "stdout",
          "text": [
            "Enter the number: 7\n",
            "The factorial of 7 is 5040\n"
          ]
        }
      ]
    },
    {
      "cell_type": "markdown",
      "id": "0357b86f",
      "metadata": {
        "id": "0357b86f"
      },
      "source": [
        "### 3. Write a Python Program to calculate your Body Mass Index?"
      ]
    },
    {
      "cell_type": "code",
      "source": [
        "def BMI(height, weight):\n",
        "\tbmi = weight/(height**2)\n",
        "\treturn bmi\n",
        "\n",
        "height = float(input(\"Enter the height(in meter): \"))\n",
        "weight = float(input(\"Enter the weight(in Kg): \"))\n",
        "\n",
        "bmi = BMI(height, weight)\n",
        "print(\"The BMI is\", format(bmi), \"so \", end='')\n",
        "\n",
        "# Conditions to find out BMI category\n",
        "if (bmi < 18.5):\n",
        "\tprint(\"underweight\")\n",
        "\n",
        "elif ( bmi >= 18.5 and bmi < 24.9):\n",
        "\tprint(\"Healthy\")\n",
        "\n",
        "elif ( bmi >= 24.9 and bmi < 30):\n",
        "\tprint(\"overweight\")\n",
        "\n",
        "elif ( bmi >=30):\n",
        "\tprint(\"Suffering from Obesity\")\n"
      ],
      "metadata": {
        "colab": {
          "base_uri": "https://localhost:8080/"
        },
        "id": "7BZEmh6vWcyX",
        "outputId": "cae789af-d0a3-4d90-b406-a4f67064d79f"
      },
      "id": "7BZEmh6vWcyX",
      "execution_count": 4,
      "outputs": [
        {
          "output_type": "stream",
          "name": "stdout",
          "text": [
            "Enter the height(in meter): 1.8\n",
            "Enter the weight(in Kg): 78\n",
            "The BMI is 24.074074074074073 so Healthy\n"
          ]
        }
      ]
    },
    {
      "cell_type": "markdown",
      "id": "96d344a4",
      "metadata": {
        "id": "96d344a4"
      },
      "source": [
        "### 4. Write a Python Program to calculate the natural logarithm of any number?"
      ]
    },
    {
      "cell_type": "code",
      "source": [
        "import math\n",
        "n = int(input(\"Enter the number: \"))\n",
        "\n",
        "print (\"Natural logarithm of \",n, \"is : \", end=\"\")\n",
        "print (math.log(n))"
      ],
      "metadata": {
        "colab": {
          "base_uri": "https://localhost:8080/"
        },
        "id": "qL079wo6WdXr",
        "outputId": "3e0b01f4-1b90-4efd-cbda-b00d3be2a5e1"
      },
      "id": "qL079wo6WdXr",
      "execution_count": 6,
      "outputs": [
        {
          "output_type": "stream",
          "name": "stdout",
          "text": [
            "Enter the number: 21\n",
            "Natural logarithm of  21 is : 3.044522437723423\n"
          ]
        }
      ]
    },
    {
      "cell_type": "markdown",
      "id": "11c0d92c",
      "metadata": {
        "id": "11c0d92c"
      },
      "source": [
        "\n",
        "### 5. Write a Python Program for cube sum of first n natural numbers?\n"
      ]
    },
    {
      "cell_type": "code",
      "source": [
        "def sumOfSeries(n):\n",
        "    x = (n * (n + 1)  / 2)\n",
        "    return (int)(x * x)\n",
        "\n",
        "n = int(input(\"Enter the number: \"))\n",
        "print(sumOfSeries(n))\n"
      ],
      "metadata": {
        "colab": {
          "base_uri": "https://localhost:8080/"
        },
        "id": "w1orLao_WeF4",
        "outputId": "33b0f3e1-1fcd-4b04-e191-05867dff0981"
      },
      "id": "w1orLao_WeF4",
      "execution_count": 11,
      "outputs": [
        {
          "output_type": "stream",
          "name": "stdout",
          "text": [
            "Enter the number: 7\n",
            "784\n"
          ]
        }
      ]
    }
  ],
  "metadata": {
    "kernelspec": {
      "display_name": "Python 3 (ipykernel)",
      "language": "python",
      "name": "python3"
    },
    "language_info": {
      "codemirror_mode": {
        "name": "ipython",
        "version": 3
      },
      "file_extension": ".py",
      "mimetype": "text/x-python",
      "name": "python",
      "nbconvert_exporter": "python",
      "pygments_lexer": "ipython3",
      "version": "3.9.12"
    },
    "colab": {
      "provenance": [],
      "include_colab_link": true
    }
  },
  "nbformat": 4,
  "nbformat_minor": 5
}